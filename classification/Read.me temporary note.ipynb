{
 "cells": [
  {
   "cell_type": "raw",
   "id": "f9a79dd7",
   "metadata": {},
   "source": [
    "Read.me"
   ]
  },
  {
   "cell_type": "markdown",
   "id": "ab930708",
   "metadata": {},
   "source": [
    "Objective: The task is to build a model that will provide insight into why some bank customers accept credit card offers. \n",
    "There are also other potential areas of opportunities that the bank wants to understand from the data. \n",
    "Your senior management has also posted these other questions that will help them better understand their customers."
   ]
  },
  {
   "cell_type": "code",
   "execution_count": null,
   "id": "b2aec4d0",
   "metadata": {},
   "outputs": [],
   "source": []
  }
 ],
 "metadata": {
  "kernelspec": {
   "display_name": "Python 3",
   "language": "python",
   "name": "python3"
  },
  "language_info": {
   "codemirror_mode": {
    "name": "ipython",
    "version": 3
   },
   "file_extension": ".py",
   "mimetype": "text/x-python",
   "name": "python",
   "nbconvert_exporter": "python",
   "pygments_lexer": "ipython3",
   "version": "3.8.8"
  }
 },
 "nbformat": 4,
 "nbformat_minor": 5
}
