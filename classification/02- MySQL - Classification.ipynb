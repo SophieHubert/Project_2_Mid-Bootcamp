{
 "cells": [
  {
   "cell_type": "code",
   "execution_count": null,
   "id": "dfcca554",
   "metadata": {},
   "outputs": [],
   "source": [
    "MySQL Queries"
   ]
  },
  {
   "cell_type": "markdown",
   "id": "d917c77e",
   "metadata": {},
   "source": [
    "# Import libraries"
   ]
  },
  {
   "cell_type": "code",
   "execution_count": null,
   "id": "96078dcc",
   "metadata": {},
   "outputs": [],
   "source": [
    "# MySQL libraries\n",
    "import pymysql\n",
    "from sqlalchemy import create_engine\n",
    "\n",
    "import getpass\n",
    "import matplotlib.pyplot as plt\n",
    "import seaborn as sns\n",
    "\n",
    "password = getpass.getpass()"
   ]
  },
  {
   "cell_type": "markdown",
   "id": "e1427358",
   "metadata": {},
   "source": [
    "# Import data"
   ]
  },
  {
   "cell_type": "code",
   "execution_count": null,
   "id": "a623b286",
   "metadata": {},
   "outputs": [],
   "source": [
    "# import from MySQL credit_card_data database"
   ]
  },
  {
   "cell_type": "code",
   "execution_count": null,
   "id": "2f548870",
   "metadata": {},
   "outputs": [],
   "source": [
    "connection_string = 'mysql+pymysql://root:' + password + '@localhost/credit_card_classification'\n",
    "engine = create_engine(connection_string)\n",
    "query = ''' \n",
    "        \n",
    "        Select *\n",
    "        from credit_card_data\n",
    "        ;\n",
    "        '''\n",
    "data = pd.read_sql_query(query, engine)\n",
    "data"
   ]
  },
  {
   "cell_type": "markdown",
   "id": "5d4114a0",
   "metadata": {},
   "source": [
    "# Queries"
   ]
  },
  {
   "cell_type": "markdown",
   "id": "b77ca3da",
   "metadata": {},
   "source": [
    "1. Create a database called credit_card_classification.\n",
    " query_1 = '''   \n",
    "use credit_card_classification;\n",
    " "
   ]
  },
  {
   "cell_type": "code",
   "execution_count": null,
   "id": "701568ed",
   "metadata": {},
   "outputs": [],
   "source": [
    "query_1 = '''   \n",
    "            use credit_card_classification\n",
    "            '''\n",
    "data = pd.read_sql_query(query_1, engine)"
   ]
  },
  {
   "cell_type": "markdown",
   "id": "b3fd42a6",
   "metadata": {},
   "source": [
    "2. Create a table credit_card_data with the same columns as given in the csv file. \n",
    " You can find the names of the headers for the table in the creditcardmarketing.xlsx file. \n",
    " Use the same column names as the names in the excel file. \n",
    " Please make sure you use the correct data types for each of the columns."
   ]
  },
  {
   "cell_type": "code",
   "execution_count": null,
   "id": "e2477737",
   "metadata": {},
   "outputs": [],
   "source": [
    "query_2 = ''' \n",
    "        \n",
    "        Select *\n",
    "        from credit_card_data\n",
    "        ;\n",
    "        '''\n",
    "data = pd.read_sql_query(query_2, engine)"
   ]
  },
  {
   "cell_type": "markdown",
   "id": "8d32cddc",
   "metadata": {},
   "source": [
    "3. Import the data from the csv file into the table. \n",
    "Before you import the data into the empty table, make sure that you have deleted the headers from the csv file. \n",
    "(in this case we have already deleted the header names from the csv files). \n",
    "To not modify the original data, if you want you can create a copy of the csv file as well. \n",
    "Note you might have to use the following queries to give permission to SQL to import data from csv files in bulk:\n",
    "        \n",
    "Import done with table data import wizard"
   ]
  },
  {
   "cell_type": "markdown",
   "id": "ad18eaa0",
   "metadata": {},
   "source": [
    "4. Select all the data from table credit_card_data to check if the data was imported correctly.\n"
   ]
  },
  {
   "cell_type": "code",
   "execution_count": null,
   "id": "83001706",
   "metadata": {},
   "outputs": [],
   "source": [
    "query_4 = '''\n",
    "            select * from credit_card_data;\n",
    "            '''\n",
    "data = pd.read_sql_query(query_4, engine)"
   ]
  },
  {
   "cell_type": "markdown",
   "id": "6fad0516",
   "metadata": {},
   "source": [
    "5. Use the alter table command to drop the column q4_balance from the database, \n",
    "as we would not use it in the analysis with SQL. \n",
    "Select all the data from the table to verify if the command worked. Limit your returned results to 10."
   ]
  },
  {
   "cell_type": "code",
   "execution_count": null,
   "id": "c87d7e87",
   "metadata": {},
   "outputs": [],
   "source": [
    "query_5 = '''\n",
    "            select * from credit_card_data\n",
    "            limit 10;\n",
    "            '''\n",
    "data = pd.read_sql_query(query_5, engine)"
   ]
  },
  {
   "cell_type": "markdown",
   "id": "a0e804a4",
   "metadata": {},
   "source": [
    "6. Use sql query to find how many rows of data you have."
   ]
  },
  {
   "cell_type": "code",
   "execution_count": null,
   "id": "a4c0b992",
   "metadata": {},
   "outputs": [],
   "source": [
    "query_6 = '''\n",
    "            select count(myunknowncolumn) from credit_card_data;\n",
    "            '''\n",
    "data = pd.read_sql_query(query_6, engine)"
   ]
  },
  {
   "cell_type": "raw",
   "id": "ec358617",
   "metadata": {},
   "source": [
    "Before to import the data in MySQL I cleanned them in python and it appeared that 24 rows have nan values. \n",
    "Which is the difference between 18000 (total rows) and 17976 (rows imported)"
   ]
  },
  {
   "cell_type": "markdown",
   "id": "2a52469f",
   "metadata": {},
   "source": [
    " 7. Now we will try to find the unique values in some of the categorical columns:\n",
    "What are the unique values in the column `Offer_accepted`?"
   ]
  },
  {
   "cell_type": "code",
   "execution_count": null,
   "id": "8307497f",
   "metadata": {},
   "outputs": [],
   "source": [
    "query_7_1 = '''\n",
    "    select distinct(offer_accepted) from credit_card_data;\n",
    "    '''\n",
    "data = pd.read_sql_query(query_7_1, engine)"
   ]
  },
  {
   "cell_type": "code",
   "execution_count": null,
   "id": "07e58c3e",
   "metadata": {},
   "outputs": [],
   "source": [
    "#What are the unique values in the column `Reward`?\n",
    "query_7_2 = '''\n",
    "        select distinct(reward) from credit_card_data;\n",
    "        '''\n",
    "data = pd.read_sql_query(query_7_2, engine)"
   ]
  },
  {
   "cell_type": "code",
   "execution_count": null,
   "id": "25b3fc27",
   "metadata": {},
   "outputs": [],
   "source": [
    "# What are the unique values in the column `mailer_type`?\n",
    "query_7_3 = '''\n",
    "        select distinct(mailer_type) from credit_card_data;\n",
    "    '''\n",
    "data = pd.read_sql_query(query_7_3, engine)"
   ]
  },
  {
   "cell_type": "code",
   "execution_count": null,
   "id": "61bfa7a1",
   "metadata": {},
   "outputs": [],
   "source": [
    "# What are the unique values in the column `credit_cards_held`?\n",
    "query_7_4 = '''\n",
    "        select distinct(credit_cards_held) from credit_card_data;\n",
    "        '''\n",
    "data = pd.read_sql_query(query_7_4, engine)"
   ]
  },
  {
   "cell_type": "code",
   "execution_count": null,
   "id": "96176322",
   "metadata": {},
   "outputs": [],
   "source": [
    "# What are the unique values in the column `household_size`?\n",
    "query_7_5 = '''\n",
    "        select distinct(household_size) from credit_card_data;\n",
    "            '''\n",
    "data = pd.read_sql_query(query_7_5, engine)"
   ]
  },
  {
   "cell_type": "markdown",
   "id": "5d4f863d",
   "metadata": {},
   "source": [
    "8. Arrange the data in a decreasing order by the average_balance of the house. \n",
    "Return only the customer_number of the top 10 customers with the highest average_balances in your data."
   ]
  },
  {
   "cell_type": "code",
   "execution_count": null,
   "id": "161e159b",
   "metadata": {},
   "outputs": [],
   "source": [
    "query_8 = '''\n",
    "        select customer_number from credit_card_data\n",
    "        order by average_balance desc\n",
    "        limit 10;\n",
    "        '''\n",
    "data = pd.read_sql_query(query_8, engine)"
   ]
  },
  {
   "cell_type": "markdown",
   "id": "d2b62ccf",
   "metadata": {},
   "source": [
    "9. What is the average balance of all the customers in your data?"
   ]
  },
  {
   "cell_type": "code",
   "execution_count": null,
   "id": "cb5ee7f2",
   "metadata": {},
   "outputs": [],
   "source": [
    "query_9 = '''\n",
    "    select avg(average_balance) from credit_card_data;\n",
    "    \n",
    "'''\n",
    "data = pd.read_sql_query(query_9, engine)"
   ]
  },
  {
   "cell_type": "markdown",
   "id": "8075b782",
   "metadata": {},
   "source": [
    "10. In this exercise we will use group by to check the properties of some of the categorical variables in our data. Note wherever average_balance is asked in the questions below, please take the average of the column average_balance:\n",
    "What is the average balance of the customers grouped by `Income Level`? \n",
    "The returned result should have only two columns, income level and `Average balance` of the customers. \n",
    "Use an alias to change the name of the second column."
   ]
  },
  {
   "cell_type": "code",
   "execution_count": null,
   "id": "9b30ca39",
   "metadata": {},
   "outputs": [],
   "source": [
    "query_10_1 = '''\n",
    "            select  income_level, avg(average_balance) as income_average_balance\n",
    "            from credit_card_data\n",
    "            group by income_level;\n",
    "\n",
    "            '''\n",
    "data = pd.read_sql_query(query_10_1, engine)"
   ]
  },
  {
   "cell_type": "code",
   "execution_count": null,
   "id": "99c38709",
   "metadata": {},
   "outputs": [],
   "source": [
    "#What is the average balance of the customers grouped by `number_of_bank_accounts_open`? \n",
    "#The returned result should have only two columns, `number_of_bank_accounts_open` and `Average balance` of the customers. \n",
    "#Use an alias to change the name of the second column.\n",
    "query_10_2 = '''\n",
    "            select bank_accounts_open  , avg(average_balance) as bank_account_average_balance\n",
    "            from credit_card_data\n",
    "            group by bank_accounts_open;\n",
    "\n",
    "            '''\n",
    "data = pd.read_sql_query(query_10_2, engine)"
   ]
  },
  {
   "cell_type": "code",
   "execution_count": null,
   "id": "62873f9b",
   "metadata": {},
   "outputs": [],
   "source": [
    "# What is the average number of credit cards held by customers for each of the credit card ratings? \n",
    "# The returned result should have only two columns, rating and average number of credit cards held. \n",
    "# Use an alias to change the name of the second column.\n",
    "query_10_3 = '''\n",
    "                select credit_rating  , avg(credit_cards_held) as avg_credit_cards_held\n",
    "                from credit_card_data\n",
    "                group by credit_rating;\n",
    "            '''\n",
    "data = pd.read_sql_query(query_10_3, engine)"
   ]
  },
  {
   "cell_type": "raw",
   "id": "eb781b29",
   "metadata": {},
   "source": [
    "Is there any correlation between the columns `credit_cards_held` and `number_of_bank_accounts_open`? \n",
    "You can analyse this by grouping the data by one of the variables and then aggregating the results of the other column. \n",
    "Visually check if there is a positive correlation or negative correlation or no correlation between the variables.\n",
    "You might also have to check the number of customers in each category (ie number of credit cards held) to assess if \n",
    "that category is well represented in the dataset to include it in your analysis. \n",
    "For eg. If the category is under-represented as compared to other categories, ignore that category in this analysis\n"
   ]
  },
  {
   "cell_type": "markdown",
   "id": "aa48dc5a",
   "metadata": {},
   "source": [
    "11. Your managers are only interested in the customers with the following properties:\n",
    " - Credit rating medium or high\n",
    " - Credit cards held 2 or less\n",
    " - Owns their own home\n",
    " - Household size 3 or more\n",
    "For the rest of the things, they are not too concerned. \n",
    "Write a simple query to find what are the options available for them? \n",
    "Can you filter the customers who accepted the offers here?"
   ]
  },
  {
   "cell_type": "code",
   "execution_count": null,
   "id": "dc35d982",
   "metadata": {},
   "outputs": [],
   "source": [
    "query_11 = '''\n",
    "            select credit_rating, credit_cards_held, homes_owned, household_size ,offer_accepted\n",
    "            from credit_card_data\n",
    "            where credit_rating = 'medium' or credit_rating = 'high'\n",
    "            and credit_cards_held <= 2\n",
    "            and homes_owned = 'yes'\n",
    "            and household_size >= 3 \n",
    "            having offer_accepted = 'yes';\n",
    "\n",
    "            '''\n",
    "data = pd.read_sql_query(query_11, engine)"
   ]
  },
  {
   "cell_type": "markdown",
   "id": "7546f445",
   "metadata": {},
   "source": [
    "12. Your managers want to find out the list of customers whose average balance is less than the average balance \n",
    "of all the customers in the database. Write a query to show them the list of such customers. \n",
    "You might need to use a subquery for this problem."
   ]
  },
  {
   "cell_type": "code",
   "execution_count": null,
   "id": "39104a30",
   "metadata": {},
   "outputs": [],
   "source": [
    "query_12 = '''\n",
    "            select customer_number, average_balance \n",
    "            from credit_card_data\n",
    "            where average_balance <\n",
    "            (select avg(average_balance) from credit_card_data\n",
    "             ) \n",
    "             ;\n",
    "    \n",
    "            '''\n",
    "data = pd.read_sql_query(query_12, engine)"
   ]
  },
  {
   "cell_type": "markdown",
   "id": "0f1596fe",
   "metadata": {},
   "source": [
    "13. Since this is something that the senior management is regularly interested in, \n",
    "create a view called Customers__Balance_View1 of the same query."
   ]
  },
  {
   "cell_type": "code",
   "execution_count": null,
   "id": "cb6ce327",
   "metadata": {},
   "outputs": [],
   "source": [
    "query_13 = '''\n",
    "            create Customers__Balance_View1 as\n",
    "            select customer_number, average_balance \n",
    "            from credit_card_data\n",
    "            where average_balance <\n",
    "            (select avg(average_balance) from credit_card_data\n",
    "             ) \n",
    "             ;\n",
    "\n",
    "            '''\n",
    "data = pd.read_sql_query(query_13, engine)"
   ]
  },
  {
   "cell_type": "markdown",
   "id": "a55aabe5",
   "metadata": {},
   "source": [
    "14. What is the number of people who accepted the offer vs number of people who did not?"
   ]
  },
  {
   "cell_type": "code",
   "execution_count": null,
   "id": "3ad1382e",
   "metadata": {},
   "outputs": [],
   "source": [
    "query_14 = '''\n",
    "            select sum(offer_accepted='Yes') as offer_accepted, sum(offer_accepted='No') as offer_not_accepted\n",
    "            from credit_card_data;\n",
    "\n",
    "        '''\n",
    "data = pd.read_sql_query(query_14, engine)"
   ]
  },
  {
   "cell_type": "markdown",
   "id": "3c1174d5",
   "metadata": {},
   "source": [
    "15. Your managers are more interested in customers with a credit rating of high or medium. \n",
    "What is the difference in average balances of the customers with high credit card rating \n",
    "and low credit card rating?"
   ]
  },
  {
   "cell_type": "code",
   "execution_count": null,
   "id": "623d50fa",
   "metadata": {},
   "outputs": [],
   "source": [
    "query_15_1 = '''\n",
    "                select customer_number, credit_rating, average_balance\n",
    "                from credit_card_data\n",
    "                where credit_rating = 'high' or credit_rating = 'medium';\n",
    "\n",
    "                '''\n",
    "data = pd.read_sql_query(query_15_1, engine)"
   ]
  },
  {
   "cell_type": "code",
   "execution_count": null,
   "id": "fda76156",
   "metadata": {},
   "outputs": [],
   "source": [
    "query_15_2 = '''\n",
    "                select credit_rating, avg(average_balance)\n",
    "                from credit_card_data\n",
    "                where credit_rating != 'low'\n",
    "                group by credit_rating;\n",
    "                '''\n",
    "data = pd.read_sql_query(query_15_1, engine)"
   ]
  },
  {
   "cell_type": "markdown",
   "id": "c8f2f58a",
   "metadata": {},
   "source": [
    "16. In the database, which all types of communication (mailer_type) were used and with how many customers?"
   ]
  },
  {
   "cell_type": "code",
   "execution_count": null,
   "id": "b9676200",
   "metadata": {},
   "outputs": [],
   "source": [
    "query_16 = '''\n",
    "            select mailer_type ,count(customer_number)\n",
    "            from credit_card_data\n",
    "            group by mailer_type;\n",
    "\n",
    "            '''\n",
    "data = pd.read_sql_query(query_16, engine)"
   ]
  },
  {
   "cell_type": "markdown",
   "id": "02977cc6",
   "metadata": {},
   "source": [
    "17. Provide the details of the customer that is the 11th least Q1_balance in your database."
   ]
  },
  {
   "cell_type": "code",
   "execution_count": null,
   "id": "62b5c22d",
   "metadata": {},
   "outputs": [],
   "source": [
    "query_17 = '''\n",
    "            select customer_number, rank(q1_balance) as rank_Q1\n",
    "            from credit_card_data\n",
    "            where rank_Q1 = 11;\n",
    "\n",
    "'''\n",
    "data = pd.read_sql_query(query_17, engine)"
   ]
  }
 ],
 "metadata": {
  "kernelspec": {
   "display_name": "Python 3",
   "language": "python",
   "name": "python3"
  },
  "language_info": {
   "codemirror_mode": {
    "name": "ipython",
    "version": 3
   },
   "file_extension": ".py",
   "mimetype": "text/x-python",
   "name": "python",
   "nbconvert_exporter": "python",
   "pygments_lexer": "ipython3",
   "version": "3.8.8"
  },
  "toc": {
   "base_numbering": 1,
   "nav_menu": {},
   "number_sections": true,
   "sideBar": true,
   "skip_h1_title": true,
   "title_cell": "Table of Contents",
   "title_sidebar": "Contents",
   "toc_cell": false,
   "toc_position": {
    "height": "calc(100% - 180px)",
    "left": "10px",
    "top": "150px",
    "width": "376px"
   },
   "toc_section_display": true,
   "toc_window_display": true
  }
 },
 "nbformat": 4,
 "nbformat_minor": 5
}
