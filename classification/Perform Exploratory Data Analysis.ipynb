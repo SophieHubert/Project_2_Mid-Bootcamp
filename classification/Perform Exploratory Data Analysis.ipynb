{
 "cells": [
  {
   "cell_type": "raw",
   "id": "52b586b1",
   "metadata": {},
   "source": [
    "3-Perform Exploratory Data Analysis:\n",
    "\n",
    "    - Fit the model\n",
    "    - Check accuracy of the model (exploring Variance vs. Bias tradeoff)\n",
    "    - Iterate on the model to get more optimized results."
   ]
  },
  {
   "cell_type": "raw",
   "id": "a6f6b841",
   "metadata": {},
   "source": [
    "Classification model:\n",
    "- Logistic regression\n",
    "- KNN classifications\n",
    "- decision trees"
   ]
  }
 ],
 "metadata": {
  "kernelspec": {
   "display_name": "Python 3",
   "language": "python",
   "name": "python3"
  },
  "language_info": {
   "codemirror_mode": {
    "name": "ipython",
    "version": 3
   },
   "file_extension": ".py",
   "mimetype": "text/x-python",
   "name": "python",
   "nbconvert_exporter": "python",
   "pygments_lexer": "ipython3",
   "version": "3.8.8"
  }
 },
 "nbformat": 4,
 "nbformat_minor": 5
}
