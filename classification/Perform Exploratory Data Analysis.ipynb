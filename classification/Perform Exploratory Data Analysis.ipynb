{
 "cells": [
  {
   "cell_type": "raw",
   "id": "4acf4b1e",
   "metadata": {},
   "source": [
    "3-Perform Exploratory Data Analysis:\n",
    "\n",
    "    - Fit the model\n",
    "    - Check accuracy of the model (exploring Variance vs. Bias tradeoff)\n",
    "    - Iterate on the model to get more optimized results."
   ]
  },
  {
   "cell_type": "code",
   "execution_count": null,
   "id": "1aeae80e",
   "metadata": {},
   "outputs": [],
   "source": [
    "# outliers boxplot to identify outliers and remove the unnecessary data"
   ]
  },
  {
   "cell_type": "raw",
   "id": "040d3918",
   "metadata": {},
   "source": [
    "Classification model:\n",
    "- Logistic regression\n",
    "- KNN classifications\n",
    "- decision trees"
   ]
  },
  {
   "cell_type": "code",
   "execution_count": null,
   "id": "f79560d8",
   "metadata": {},
   "outputs": [],
   "source": [
    "num = df.select_dtypes('number')\n",
    "for c in num.columns:\n",
    "    fig, axes = plt.subplots(1, 2, figsize=(15, 5))\n",
    "    sns.set_style(\"darkgrid\")\n",
    "    sns.distplot(num[c], ax=axes[0],  color = 'gray')\n",
    "    sns.boxplot(num[c], ax=axes[1],  color = 'gray')\n",
    "    plt.show()\n"
   ]
  },
  {
   "cell_type": "code",
   "execution_count": null,
   "id": "5adddf3d",
   "metadata": {},
   "outputs": [],
   "source": []
  },
  {
   "cell_type": "code",
   "execution_count": null,
   "id": "d1a78326",
   "metadata": {},
   "outputs": [],
   "source": []
  },
  {
   "cell_type": "code",
   "execution_count": null,
   "id": "3a784490",
   "metadata": {},
   "outputs": [],
   "source": []
  },
  {
   "cell_type": "code",
   "execution_count": null,
   "id": "a5c33ce9",
   "metadata": {},
   "outputs": [],
   "source": [
    "print(data.shape)"
   ]
  },
  {
   "cell_type": "code",
   "execution_count": null,
   "id": "4ce9b309",
   "metadata": {},
   "outputs": [],
   "source": [
    "print(data['offer_accepted'].unique())"
   ]
  },
  {
   "cell_type": "code",
   "execution_count": null,
   "id": "76a901eb",
   "metadata": {},
   "outputs": [],
   "source": [
    "print(data.groupby('offer_accepted').size())"
   ]
  },
  {
   "cell_type": "code",
   "execution_count": null,
   "id": "bca9b132",
   "metadata": {},
   "outputs": [],
   "source": []
  },
  {
   "cell_type": "code",
   "execution_count": null,
   "id": "a4bdbe10",
   "metadata": {},
   "outputs": [],
   "source": []
  }
 ],
 "metadata": {
  "kernelspec": {
   "display_name": "Python 3",
   "language": "python",
   "name": "python3"
  },
  "language_info": {
   "codemirror_mode": {
    "name": "ipython",
    "version": 3
   },
   "file_extension": ".py",
   "mimetype": "text/x-python",
   "name": "python",
   "nbconvert_exporter": "python",
   "pygments_lexer": "ipython3",
   "version": "3.8.8"
  }
 },
 "nbformat": 4,
 "nbformat_minor": 5
}
