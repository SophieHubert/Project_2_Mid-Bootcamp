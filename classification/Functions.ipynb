{
 "cells": [
  {
   "cell_type": "markdown",
   "id": "59b3cd77",
   "metadata": {},
   "source": [
    "Information - Function Classification"
   ]
  },
  {
   "cell_type": "code",
   "execution_count": null,
   "id": "5b20a45a",
   "metadata": {},
   "outputs": [],
   "source": [
    "def remove_outliers(data_model, threshold=1.5, in_columns=data_model.select_dtypes(np.number).columns, skip_columns=[]):\n",
    "    for column in in_columns:\n",
    "        if column not in skip_columns:\n",
    "            upper = np.percentile(data_model[column],75)\n",
    "            lower = np.percentile(data_model[column],25)\n",
    "            iqr = upper - lower\n",
    "            upper_limit = upper + (threshold * iqr)\n",
    "            lower_limit = lower - (threshold * iqr)\n",
    "            data_model = data_model[(data_model[column]>lower_limit) & (data_model[column]<upper_limit)]\n",
    "    return data_model"
   ]
  },
  {
   "cell_type": "code",
   "execution_count": null,
   "id": "e45d21e5",
   "metadata": {},
   "outputs": [],
   "source": [
    "def boxcox_transform(data):\n",
    "    numeric_cols = data.select_dtypes(np.number).columns\n",
    "    _ci = {column: None for column in numeric_cols}\n",
    "    for column in numeric_cols:\n",
    "        \n",
    "        data[column] = np.where(data[column]<=0, np.NAN, data[column]) \n",
    "        data[column] = data[column].fillna(data[column].mean())\n",
    "        transformed_data, ci = stats.boxcox(data[column])\n",
    "        data[column] = transformed_data\n",
    "        _ci[column] = [ci] \n",
    "    return data, _ci"
   ]
  },
  {
   "cell_type": "code",
   "execution_count": null,
   "id": "b11cd69a",
   "metadata": {},
   "outputs": [],
   "source": []
  }
 ],
 "metadata": {
  "kernelspec": {
   "display_name": "Python 3",
   "language": "python",
   "name": "python3"
  },
  "language_info": {
   "codemirror_mode": {
    "name": "ipython",
    "version": 3
   },
   "file_extension": ".py",
   "mimetype": "text/x-python",
   "name": "python",
   "nbconvert_exporter": "python",
   "pygments_lexer": "ipython3",
   "version": "3.8.8"
  },
  "toc": {
   "base_numbering": 1,
   "nav_menu": {},
   "number_sections": true,
   "sideBar": true,
   "skip_h1_title": true,
   "title_cell": "Table of Contents",
   "title_sidebar": "Contents",
   "toc_cell": false,
   "toc_position": {},
   "toc_section_display": true,
   "toc_window_display": false
  }
 },
 "nbformat": 4,
 "nbformat_minor": 5
}
